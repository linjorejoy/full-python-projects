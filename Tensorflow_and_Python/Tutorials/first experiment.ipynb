{
 "cells": [
  {
   "cell_type": "code",
   "execution_count": 6,
   "metadata": {},
   "outputs": [],
   "source": [
    "import tensorflow as tf"
   ]
  },
  {
   "cell_type": "code",
   "execution_count": 28,
   "metadata": {},
   "outputs": [],
   "source": [
    "import numpy as np"
   ]
  },
  {
   "cell_type": "code",
   "execution_count": 2,
   "metadata": {},
   "outputs": [],
   "source": [
    "hello = tf.constant(\"hello world\")"
   ]
  },
  {
   "cell_type": "code",
   "execution_count": 3,
   "metadata": {},
   "outputs": [],
   "source": [
    "sess = tf.Session()"
   ]
  },
  {
   "cell_type": "code",
   "execution_count": 8,
   "metadata": {},
   "outputs": [],
   "source": [
    "#notes"
   ]
  },
  {
   "cell_type": "code",
   "execution_count": null,
   "metadata": {},
   "outputs": [],
   "source": [
    "print(sess.run(hello))"
   ]
  },
  {
   "cell_type": "markdown",
   "metadata": {},
   "source": [
    "# sdbaknl"
   ]
  },
  {
   "cell_type": "markdown",
   "metadata": {},
   "source": [
    "$e^{i\\pi} + 1 = 0$"
   ]
  },
  {
   "cell_type": "code",
   "execution_count": 9,
   "metadata": {},
   "outputs": [],
   "source": [
    "s = 'haii'"
   ]
  },
  {
   "cell_type": "code",
   "execution_count": 10,
   "metadata": {},
   "outputs": [
    {
     "data": {
      "text/plain": [
       "<function str.capitalize()>"
      ]
     },
     "execution_count": 10,
     "metadata": {},
     "output_type": "execute_result"
    }
   ],
   "source": [
    "s.capitalize"
   ]
  },
  {
   "cell_type": "code",
   "execution_count": 11,
   "metadata": {},
   "outputs": [
    {
     "data": {
      "text/plain": [
       "'Haii'"
      ]
     },
     "execution_count": 11,
     "metadata": {},
     "output_type": "execute_result"
    }
   ],
   "source": [
    "s.capitalize()"
   ]
  },
  {
   "cell_type": "code",
   "execution_count": 12,
   "metadata": {},
   "outputs": [
    {
     "data": {
      "text/plain": [
       "'haii'"
      ]
     },
     "execution_count": 12,
     "metadata": {},
     "output_type": "execute_result"
    }
   ],
   "source": [
    "s.casefold()"
   ]
  },
  {
   "cell_type": "code",
   "execution_count": 27,
   "metadata": {},
   "outputs": [
    {
     "data": {
      "text/plain": [
       "'                                      haii                                      '"
      ]
     },
     "execution_count": 27,
     "metadata": {},
     "output_type": "execute_result"
    }
   ],
   "source": [
    "s.center(80)"
   ]
  },
  {
   "cell_type": "code",
   "execution_count": 30,
   "metadata": {},
   "outputs": [
    {
     "data": {
      "text/plain": [
       "array([[1., 1., 1., 1., 1.],\n",
       "       [1., 1., 1., 1., 1.],\n",
       "       [1., 1., 1., 1., 1.]])"
      ]
     },
     "execution_count": 30,
     "metadata": {},
     "output_type": "execute_result"
    }
   ],
   "source": [
    "np.ones((3,5))"
   ]
  },
  {
   "cell_type": "code",
   "execution_count": 32,
   "metadata": {},
   "outputs": [
    {
     "data": {
      "text/plain": [
       "array([0., 0., 0., 0., 0., 0., 0., 0., 0., 0., 0., 0., 0., 0., 0., 0., 0.,\n",
       "       0., 0., 0., 0., 0., 0., 0., 0., 0., 0., 0., 0., 0., 0., 0., 0., 0.,\n",
       "       0., 0., 0., 0., 0., 0., 0., 0., 0., 0., 0., 0., 0., 0., 0., 0., 0.,\n",
       "       0., 0., 0., 0., 0., 0., 0., 0., 0., 0., 0., 0., 0., 0., 0., 0., 0.,\n",
       "       0., 0., 0., 0., 0., 0., 0., 0., 0., 0., 0., 0., 0., 0., 0., 0., 0.,\n",
       "       0., 0., 0., 0., 0., 0., 0., 0., 0., 0., 0., 0., 0., 0., 0.])"
      ]
     },
     "execution_count": 32,
     "metadata": {},
     "output_type": "execute_result"
    }
   ],
   "source": [
    "np.zeros(100)"
   ]
  },
  {
   "cell_type": "code",
   "execution_count": 34,
   "metadata": {},
   "outputs": [],
   "source": [
    "arr = np.linspace(0,150,200)"
   ]
  },
  {
   "cell_type": "code",
   "execution_count": 35,
   "metadata": {},
   "outputs": [
    {
     "data": {
      "text/plain": [
       "3.0150753768844223"
      ]
     },
     "execution_count": 35,
     "metadata": {},
     "output_type": "execute_result"
    }
   ],
   "source": [
    "arr[4]"
   ]
  },
  {
   "cell_type": "code",
   "execution_count": 53,
   "metadata": {},
   "outputs": [
    {
     "data": {
      "text/plain": [
       "array([[2, 7, 3],\n",
       "       [4, 4, 2],\n",
       "       [4, 8, 5]])"
      ]
     },
     "execution_count": 53,
     "metadata": {},
     "output_type": "execute_result"
    }
   ],
   "source": [
    "np.random.randint(2,10,(3,3))"
   ]
  },
  {
   "cell_type": "code",
   "execution_count": 56,
   "metadata": {},
   "outputs": [
    {
     "data": {
      "text/plain": [
       "0.0"
      ]
     },
     "execution_count": 56,
     "metadata": {},
     "output_type": "execute_result"
    }
   ],
   "source": [
    "arr.prod()"
   ]
  },
  {
   "cell_type": "code",
   "execution_count": 57,
   "metadata": {},
   "outputs": [
    {
     "data": {
      "text/plain": [
       "array([  0.        ,   0.75376884,   1.50753769,   2.26130653,\n",
       "         3.01507538,   3.76884422,   4.52261307,   5.27638191,\n",
       "         6.03015075,   6.7839196 ,   7.53768844,   8.29145729,\n",
       "         9.04522613,   9.79899497,  10.55276382,  11.30653266,\n",
       "        12.06030151,  12.81407035,  13.5678392 ,  14.32160804,\n",
       "        15.07537688,  15.82914573,  16.58291457,  17.33668342,\n",
       "        18.09045226,  18.84422111,  19.59798995,  20.35175879,\n",
       "        21.10552764,  21.85929648,  22.61306533,  23.36683417,\n",
       "        24.12060302,  24.87437186,  25.6281407 ,  26.38190955,\n",
       "        27.13567839,  27.88944724,  28.64321608,  29.39698492,\n",
       "        30.15075377,  30.90452261,  31.65829146,  32.4120603 ,\n",
       "        33.16582915,  33.91959799,  34.67336683,  35.42713568,\n",
       "        36.18090452,  36.93467337,  37.68844221,  38.44221106,\n",
       "        39.1959799 ,  39.94974874,  40.70351759,  41.45728643,\n",
       "        42.21105528,  42.96482412,  43.71859296,  44.47236181,\n",
       "        45.22613065,  45.9798995 ,  46.73366834,  47.48743719,\n",
       "        48.24120603,  48.99497487,  49.74874372,  50.50251256,\n",
       "        51.25628141,  52.01005025,  52.7638191 ,  53.51758794,\n",
       "        54.27135678,  55.02512563,  55.77889447,  56.53266332,\n",
       "        57.28643216,  58.04020101,  58.79396985,  59.54773869,\n",
       "        60.30150754,  61.05527638,  61.80904523,  62.56281407,\n",
       "        63.31658291,  64.07035176,  64.8241206 ,  65.57788945,\n",
       "        66.33165829,  67.08542714,  67.83919598,  68.59296482,\n",
       "        69.34673367,  70.10050251,  70.85427136,  71.6080402 ,\n",
       "        72.36180905,  73.11557789,  73.86934673,  74.62311558,\n",
       "        75.37688442,  76.13065327,  76.88442211,  77.63819095,\n",
       "        78.3919598 ,  79.14572864,  79.89949749,  80.65326633,\n",
       "        81.40703518,  82.16080402,  82.91457286,  83.66834171,\n",
       "        84.42211055,  85.1758794 ,  85.92964824,  86.68341709,\n",
       "        87.43718593,  88.19095477,  88.94472362,  89.69849246,\n",
       "        90.45226131,  91.20603015,  91.95979899,  92.71356784,\n",
       "        93.46733668,  94.22110553,  94.97487437,  95.72864322,\n",
       "        96.48241206,  97.2361809 ,  97.98994975,  98.74371859,\n",
       "        99.49748744, 100.25125628, 101.00502513, 101.75879397,\n",
       "       102.51256281, 103.26633166, 104.0201005 , 104.77386935,\n",
       "       105.52763819, 106.28140704, 107.03517588, 107.78894472,\n",
       "       108.54271357, 109.29648241, 110.05025126, 110.8040201 ,\n",
       "       111.55778894, 112.31155779, 113.06532663, 113.81909548,\n",
       "       114.57286432, 115.32663317, 116.08040201, 116.83417085,\n",
       "       117.5879397 , 118.34170854, 119.09547739, 119.84924623,\n",
       "       120.60301508, 121.35678392, 122.11055276, 122.86432161,\n",
       "       123.61809045, 124.3718593 , 125.12562814, 125.87939698,\n",
       "       126.63316583, 127.38693467, 128.14070352, 128.89447236,\n",
       "       129.64824121, 130.40201005, 131.15577889, 131.90954774,\n",
       "       132.66331658, 133.41708543, 134.17085427, 134.92462312,\n",
       "       135.67839196, 136.4321608 , 137.18592965, 137.93969849,\n",
       "       138.69346734, 139.44723618, 140.20100503, 140.95477387,\n",
       "       141.70854271, 142.46231156, 143.2160804 , 143.96984925,\n",
       "       144.72361809, 145.47738693, 146.23115578, 146.98492462,\n",
       "       147.73869347, 148.49246231, 149.24623116, 150.        ])"
      ]
     },
     "execution_count": 57,
     "metadata": {},
     "output_type": "execute_result"
    }
   ],
   "source": [
    "arr"
   ]
  },
  {
   "cell_type": "code",
   "execution_count": null,
   "metadata": {},
   "outputs": [],
   "source": []
  }
 ],
 "metadata": {
  "kernelspec": {
   "display_name": "Python 3",
   "language": "python",
   "name": "python3"
  },
  "language_info": {
   "codemirror_mode": {
    "name": "ipython",
    "version": 3
   },
   "file_extension": ".py",
   "mimetype": "text/x-python",
   "name": "python",
   "nbconvert_exporter": "python",
   "pygments_lexer": "ipython3",
   "version": "3.7.6"
  }
 },
 "nbformat": 4,
 "nbformat_minor": 4
}
