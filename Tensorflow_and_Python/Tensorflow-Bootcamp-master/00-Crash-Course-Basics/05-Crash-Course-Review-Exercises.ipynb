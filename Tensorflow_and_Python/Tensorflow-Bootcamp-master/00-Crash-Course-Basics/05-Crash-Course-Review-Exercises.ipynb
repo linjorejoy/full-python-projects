{
 "cells": [
  {
   "cell_type": "markdown",
   "metadata": {},
   "source": [
    "# Crash Course Review Exercises "
   ]
  },
  {
   "cell_type": "markdown",
   "metadata": {},
   "source": [
    "** Import numpy,pandas,matplotlib,and sklearn. Also set visualizations to be shown inline in the notebook.**"
   ]
  },
  {
   "cell_type": "code",
   "execution_count": 27,
   "metadata": {},
   "outputs": [],
   "source": [
    "import numpy as np\n",
    "import pandas as pd\n",
    "import matplotlib.pyplot as plt\n",
    "from sklearn.model_selection import train_test_split\n",
    "from sklearn.preprocessing import MinMaxScaler"
   ]
  },
  {
   "cell_type": "code",
   "execution_count": 4,
   "metadata": {},
   "outputs": [],
   "source": [
    "%matplotlib inline"
   ]
  },
  {
   "cell_type": "markdown",
   "metadata": {},
   "source": [
    "** Set Numpy's Random Seed to 101 **"
   ]
  },
  {
   "cell_type": "code",
   "execution_count": 5,
   "metadata": {},
   "outputs": [],
   "source": [
    "np.random.seed(101)\n",
    "my_array = np.random.randint(1,101,(100,5))"
   ]
  },
  {
   "cell_type": "markdown",
   "metadata": {},
   "source": [
    "** Create a NumPy Matrix of 100 rows by 5 columns consisting of random integers from 1-100. (Keep in mind that the upper limit may be exclusive.**"
   ]
  },
  {
   "cell_type": "code",
   "execution_count": null,
   "metadata": {},
   "outputs": [],
   "source": []
  },
  {
   "cell_type": "code",
   "execution_count": null,
   "metadata": {},
   "outputs": [],
   "source": []
  },
  {
   "cell_type": "code",
   "execution_count": 21,
   "metadata": {},
   "outputs": [
    {
     "data": {
      "text/plain": [
       "<matplotlib.colorbar.Colorbar at 0x1fd2d7cd6c8>"
      ]
     },
     "execution_count": 21,
     "metadata": {},
     "output_type": "execute_result"
    },
    {
     "data": {
      "image/png": "[encoded data removed]",
      "text/plain": [
       "<Figure size 432x288 with 2 Axes>"
      ]
     },
     "metadata": {
      "needs_background": "light"
     },
     "output_type": "display_data"
    }
   ],
   "source": [
    "plt.imshow(my_array,aspect=0.05)\n",
    "plt.colorbar()"
   ]
  },
  {
   "cell_type": "markdown",
   "metadata": {},
   "source": [
    "** Create a 2-D visualization using plt.imshow of the numpy matrix with a colorbar. Add a title to your plot. Bonus: Figure out how to change the [*aspect*](https://stackoverflow.com/questions/10540929/figure-of-imshow-is-too-small) of the imshow() plot. **"
   ]
  },
  {
   "cell_type": "code",
   "execution_count": 26,
   "metadata": {},
   "outputs": [
    {
     "data": {
      "text/plain": [
       "<matplotlib.text.Text at 0x1ee3fd100f0>"
      ]
     },
     "execution_count": 26,
     "metadata": {},
     "output_type": "execute_result"
    },
    {
     "data": {
      "image/png": "[encoded data removed]",
      "text/plain": [
       "<matplotlib.figure.Figure at 0x1ee3fc5d048>"
      ]
     },
     "metadata": {},
     "output_type": "display_data"
    }
   ],
   "source": []
  },
  {
   "cell_type": "markdown",
   "metadata": {},
   "source": [
    "** Now use pd.DataFrame() to read in this numpy array as a dataframe. Simple pass in the numpy array into that function to get back a dataframe. Pandas will auto label the columns to 0-4**"
   ]
  },
  {
   "cell_type": "code",
   "execution_count": 43,
   "metadata": {},
   "outputs": [],
   "source": [
    "df = pd.DataFrame(my_array )"
   ]
  },
  {
   "cell_type": "code",
   "execution_count": 44,
   "metadata": {},
   "outputs": [
    {
     "data": {
      "text/html": [
       "<div>\n",
       "<style scoped>\n",
       "    .dataframe tbody tr th:only-of-type {\n",
       "        vertical-align: middle;\n",
       "    }\n",
       "\n",
       "    .dataframe tbody tr th {\n",
       "        vertical-align: top;\n",
       "    }\n",
       "\n",
       "    .dataframe thead th {\n",
       "        text-align: right;\n",
       "    }\n",
       "</style>\n",
       "<table border=\"1\" class=\"dataframe\">\n",
       "  <thead>\n",
       "    <tr style=\"text-align: right;\">\n",
       "      <th></th>\n",
       "      <th>0</th>\n",
       "      <th>1</th>\n",
       "      <th>2</th>\n",
       "      <th>3</th>\n",
       "      <th>4</th>\n",
       "    </tr>\n",
       "  </thead>\n",
       "  <tbody>\n",
       "    <tr>\n",
       "      <th>0</th>\n",
       "      <td>96</td>\n",
       "      <td>12</td>\n",
       "      <td>82</td>\n",
       "      <td>71</td>\n",
       "      <td>64</td>\n",
       "    </tr>\n",
       "    <tr>\n",
       "      <th>1</th>\n",
       "      <td>88</td>\n",
       "      <td>76</td>\n",
       "      <td>10</td>\n",
       "      <td>78</td>\n",
       "      <td>41</td>\n",
       "    </tr>\n",
       "    <tr>\n",
       "      <th>2</th>\n",
       "      <td>5</td>\n",
       "      <td>64</td>\n",
       "      <td>41</td>\n",
       "      <td>61</td>\n",
       "      <td>93</td>\n",
       "    </tr>\n",
       "    <tr>\n",
       "      <th>3</th>\n",
       "      <td>65</td>\n",
       "      <td>6</td>\n",
       "      <td>13</td>\n",
       "      <td>94</td>\n",
       "      <td>41</td>\n",
       "    </tr>\n",
       "    <tr>\n",
       "      <th>4</th>\n",
       "      <td>50</td>\n",
       "      <td>84</td>\n",
       "      <td>9</td>\n",
       "      <td>30</td>\n",
       "      <td>60</td>\n",
       "    </tr>\n",
       "    <tr>\n",
       "      <th>...</th>\n",
       "      <td>...</td>\n",
       "      <td>...</td>\n",
       "      <td>...</td>\n",
       "      <td>...</td>\n",
       "      <td>...</td>\n",
       "    </tr>\n",
       "    <tr>\n",
       "      <th>95</th>\n",
       "      <td>88</td>\n",
       "      <td>67</td>\n",
       "      <td>17</td>\n",
       "      <td>61</td>\n",
       "      <td>26</td>\n",
       "    </tr>\n",
       "    <tr>\n",
       "      <th>96</th>\n",
       "      <td>100</td>\n",
       "      <td>31</td>\n",
       "      <td>42</td>\n",
       "      <td>73</td>\n",
       "      <td>46</td>\n",
       "    </tr>\n",
       "    <tr>\n",
       "      <th>97</th>\n",
       "      <td>27</td>\n",
       "      <td>88</td>\n",
       "      <td>66</td>\n",
       "      <td>61</td>\n",
       "      <td>90</td>\n",
       "    </tr>\n",
       "    <tr>\n",
       "      <th>98</th>\n",
       "      <td>71</td>\n",
       "      <td>34</td>\n",
       "      <td>60</td>\n",
       "      <td>29</td>\n",
       "      <td>17</td>\n",
       "    </tr>\n",
       "    <tr>\n",
       "      <th>99</th>\n",
       "      <td>50</td>\n",
       "      <td>96</td>\n",
       "      <td>42</td>\n",
       "      <td>12</td>\n",
       "      <td>87</td>\n",
       "    </tr>\n",
       "  </tbody>\n",
       "</table>\n",
       "<p>100 rows × 5 columns</p>\n",
       "</div>"
      ],
      "text/plain": [
       "      0   1   2   3   4\n",
       "0    96  12  82  71  64\n",
       "1    88  76  10  78  41\n",
       "2     5  64  41  61  93\n",
       "3    65   6  13  94  41\n",
       "4    50  84   9  30  60\n",
       "..  ...  ..  ..  ..  ..\n",
       "95   88  67  17  61  26\n",
       "96  100  31  42  73  46\n",
       "97   27  88  66  61  90\n",
       "98   71  34  60  29  17\n",
       "99   50  96  42  12  87\n",
       "\n",
       "[100 rows x 5 columns]"
      ]
     },
     "execution_count": 44,
     "metadata": {},
     "output_type": "execute_result"
    }
   ],
   "source": [
    "df"
   ]
  },
  {
   "cell_type": "markdown",
   "metadata": {},
   "source": [
    "** Now create a scatter plot using pandas of the 0 column vs the 1 column. **"
   ]
  },
  {
   "cell_type": "code",
   "execution_count": 25,
   "metadata": {},
   "outputs": [
    {
     "data": {
      "text/plain": [
       "<matplotlib.collections.PathCollection at 0x1fd2dab3dc8>"
      ]
     },
     "execution_count": 25,
     "metadata": {},
     "output_type": "execute_result"
    },
    {
     "data": {
      "image/png": "[encoded data removed]",
      "text/plain": [
       "<Figure size 432x288 with 1 Axes>"
      ]
     },
     "metadata": {
      "needs_background": "light"
     },
     "output_type": "display_data"
    }
   ],
   "source": [
    "plt.scatter(df[0],df[1])"
   ]
  },
  {
   "cell_type": "markdown",
   "metadata": {},
   "source": [
    "** Now scale the data to have a minimum of 0 and a maximum value of 1 using scikit-learn. **"
   ]
  },
  {
   "cell_type": "code",
   "execution_count": 28,
   "metadata": {},
   "outputs": [],
   "source": [
    "scaled_model = MinMaxScaler()"
   ]
  },
  {
   "cell_type": "code",
   "execution_count": null,
   "metadata": {},
   "outputs": [],
   "source": []
  },
  {
   "cell_type": "code",
   "execution_count": 30,
   "metadata": {},
   "outputs": [
    {
     "data": {
      "text/plain": [
       "MinMaxScaler(copy=True, feature_range=(0, 1))"
      ]
     },
     "execution_count": 30,
     "metadata": {},
     "output_type": "execute_result"
    }
   ],
   "source": [
    "scaled_model.fit(my_array)"
   ]
  },
  {
   "cell_type": "code",
   "execution_count": 38,
   "metadata": {},
   "outputs": [
    {
     "data": {
      "text/plain": [
       "array([[0.95876289, 0.10416667, 0.82105263, 0.72164948, 0.63265306],\n",
       "       [0.87628866, 0.77083333, 0.06315789, 0.79381443, 0.39795918],\n",
       "       [0.02061856, 0.64583333, 0.38947368, 0.6185567 , 0.92857143],\n",
       "       [0.63917526, 0.04166667, 0.09473684, 0.95876289, 0.39795918],\n",
       "       [0.48453608, 0.85416667, 0.05263158, 0.29896907, 0.59183673],\n",
       "       [0.32989691, 0.44791667, 0.72631579, 0.19587629, 0.09183673],\n",
       "       [0.7628866 , 0.97916667, 0.88421053, 0.        , 0.73469388],\n",
       "       [0.06185567, 0.63541667, 0.34736842, 0.8556701 , 1.        ],\n",
       "       [0.26804124, 0.64583333, 0.04210526, 0.10309278, 0.52040816],\n",
       "       [0.55670103, 0.38541667, 0.73684211, 0.53608247, 0.17346939],\n",
       "       [0.71134021, 0.14583333, 0.43157895, 0.        , 0.1122449 ],\n",
       "       [0.15463918, 0.77083333, 0.8       , 1.        , 0.93877551],\n",
       "       [0.22680412, 0.36458333, 0.63157895, 0.19587629, 0.34693878],\n",
       "       [0.28865979, 0.09375   , 0.6       , 0.20618557, 0.26530612],\n",
       "       [0.06185567, 0.88541667, 0.24210526, 0.89690722, 0.45918367],\n",
       "       [0.46391753, 0.55208333, 0.87368421, 0.09278351, 0.44897959],\n",
       "       [0.        , 0.17708333, 0.57894737, 0.94845361, 0.10204082],\n",
       "       [0.08247423, 0.96875   , 0.33684211, 0.28865979, 0.02040816],\n",
       "       [0.83505155, 0.86458333, 0.46315789, 0.1443299 , 0.69387755],\n",
       "       [0.59793814, 0.70833333, 0.50526316, 0.06185567, 0.8877551 ],\n",
       "       [0.71134021, 0.69791667, 0.21052632, 0.36082474, 0.79591837],\n",
       "       [0.98969072, 0.6875    , 0.83157895, 0.58762887, 0.7755102 ],\n",
       "       [0.45360825, 0.02083333, 0.45263158, 0.29896907, 0.86734694],\n",
       "       [0.19587629, 0.20833333, 0.82105263, 0.2371134 , 0.94897959],\n",
       "       [0.71134021, 0.19791667, 0.25263158, 0.77319588, 0.04081633],\n",
       "       [0.48453608, 0.88541667, 0.90526316, 0.64948454, 0.82653061],\n",
       "       [0.77319588, 0.02083333, 0.55789474, 0.1443299 , 0.48979592],\n",
       "       [0.87628866, 0.53125   , 0.10526316, 0.48453608, 0.48979592],\n",
       "       [0.22680412, 0.19791667, 0.64210526, 0.53608247, 0.60204082],\n",
       "       [0.46391753, 0.29166667, 0.6       , 0.54639175, 0.10204082],\n",
       "       [0.39175258, 0.9375    , 0.44210526, 1.        , 0.23469388],\n",
       "       [0.35051546, 0.38541667, 0.06315789, 0.53608247, 0.67346939],\n",
       "       [0.42268041, 0.        , 0.8       , 0.70103093, 0.68367347],\n",
       "       [0.60824742, 0.17708333, 0.50526316, 0.1443299 , 0.2755102 ],\n",
       "       [0.15463918, 0.89583333, 0.45263158, 0.53608247, 0.15306122],\n",
       "       [0.70103093, 0.72916667, 0.85263158, 0.10309278, 0.62244898],\n",
       "       [0.96907216, 0.58333333, 0.21052632, 0.88659794, 0.85714286],\n",
       "       [0.24742268, 0.78125   , 0.66315789, 0.55670103, 0.16326531],\n",
       "       [0.64948454, 0.58333333, 0.90526316, 0.02061856, 0.80612245],\n",
       "       [0.49484536, 0.67708333, 0.89473684, 0.81443299, 0.93877551],\n",
       "       [0.04123711, 0.94791667, 0.41052632, 0.22680412, 0.19387755],\n",
       "       [0.2371134 , 1.        , 0.53684211, 0.73195876, 0.7244898 ],\n",
       "       [0.80412371, 0.95833333, 0.64210526, 0.64948454, 0.80612245],\n",
       "       [0.37113402, 0.45833333, 0.33684211, 0.25773196, 0.95918367],\n",
       "       [0.75257732, 0.73958333, 0.08421053, 0.78350515, 0.79591837],\n",
       "       [0.49484536, 0.21875   , 0.58947368, 0.68041237, 0.        ],\n",
       "       [0.32989691, 0.375     , 0.56842105, 0.36082474, 0.41836735],\n",
       "       [0.43298969, 0.5       , 0.29473684, 0.81443299, 0.85714286],\n",
       "       [0.01030928, 0.5625    , 0.73684211, 0.95876289, 0.94897959],\n",
       "       [1.        , 0.40625   , 0.53684211, 0.90721649, 0.94897959],\n",
       "       [0.86597938, 0.16666667, 0.68421053, 0.17525773, 0.17346939],\n",
       "       [0.59793814, 0.85416667, 0.83157895, 0.07216495, 0.67346939],\n",
       "       [0.32989691, 0.78125   , 0.95789474, 0.20618557, 0.69387755],\n",
       "       [0.73195876, 0.60416667, 0.32631579, 0.71134021, 0.24489796],\n",
       "       [0.78350515, 0.94791667, 0.74736842, 0.77319588, 0.32653061],\n",
       "       [0.07216495, 0.4375    , 0.17894737, 0.84536082, 0.29591837],\n",
       "       [0.01030928, 0.46875   , 0.27368421, 0.48453608, 0.26530612],\n",
       "       [0.81443299, 0.72916667, 0.23157895, 0.96907216, 0.57142857],\n",
       "       [0.19587629, 0.29166667, 0.03157895, 0.55670103, 0.46938776],\n",
       "       [0.46391753, 0.61458333, 0.03157895, 0.77319588, 0.97959184],\n",
       "       [0.5257732 , 0.44791667, 1.        , 0.40206186, 0.31632653],\n",
       "       [0.87628866, 0.80208333, 0.18947368, 0.92783505, 0.13265306],\n",
       "       [0.18556701, 0.        , 0.70526316, 0.25773196, 0.44897959],\n",
       "       [0.96907216, 0.32291667, 0.29473684, 0.42268041, 0.79591837],\n",
       "       [0.87628866, 0.21875   , 0.95789474, 0.4742268 , 0.71428571],\n",
       "       [0.22680412, 0.41666667, 0.34736842, 0.31958763, 0.15306122],\n",
       "       [0.87628866, 0.21875   , 0.97894737, 0.03092784, 0.1122449 ],\n",
       "       [0.71134021, 0.08333333, 0.88421053, 0.97938144, 0.3877551 ],\n",
       "       [0.63917526, 0.63541667, 0.89473684, 0.78350515, 0.93877551],\n",
       "       [0.83505155, 0.97916667, 0.68421053, 0.71134021, 0.59183673],\n",
       "       [0.51546392, 0.0625    , 0.38947368, 0.75257732, 0.86734694],\n",
       "       [0.12371134, 0.5       , 0.98947368, 0.25773196, 0.57142857],\n",
       "       [0.39175258, 0.16666667, 0.30526316, 0.8556701 , 0.97959184],\n",
       "       [0.25773196, 0.47916667, 0.10526316, 0.72164948, 0.14285714],\n",
       "       [0.92783505, 0.17708333, 0.95789474, 0.49484536, 0.65306122],\n",
       "       [0.82474227, 0.34375   , 0.02105263, 0.4742268 , 0.83673469],\n",
       "       [0.25773196, 0.26041667, 0.17894737, 0.89690722, 0.84693878],\n",
       "       [0.15463918, 0.60416667, 0.64210526, 0.45360825, 0.03061224],\n",
       "       [0.50515464, 0.5       , 0.74736842, 0.84536082, 0.36734694],\n",
       "       [0.5257732 , 0.95833333, 0.73684211, 0.05154639, 0.36734694],\n",
       "       [0.55670103, 0.35416667, 0.12631579, 0.41237113, 0.41836735],\n",
       "       [0.71134021, 0.375     , 0.45263158, 0.73195876, 0.91836735],\n",
       "       [0.97938144, 0.36458333, 0.42105263, 0.27835052, 0.66326531],\n",
       "       [0.56701031, 0.02083333, 0.54736842, 0.72164948, 0.40816327],\n",
       "       [0.67010309, 0.73958333, 0.89473684, 0.69072165, 0.75510204],\n",
       "       [0.69072165, 0.94791667, 0.17894737, 0.15463918, 0.57142857],\n",
       "       [0.07216495, 0.70833333, 0.98947368, 0.93814433, 0.51020408],\n",
       "       [0.53608247, 0.45833333, 0.36842105, 0.15463918, 0.41836735],\n",
       "       [0.60824742, 0.07291667, 0.        , 0.90721649, 0.7244898 ],\n",
       "       [0.40206186, 0.23958333, 0.94736842, 0.28865979, 0.95918367],\n",
       "       [0.42268041, 0.48958333, 0.69473684, 0.43298969, 0.66326531],\n",
       "       [0.82474227, 0.67708333, 0.89473684, 0.80412371, 0.13265306],\n",
       "       [0.5257732 , 0.46875   , 0.11578947, 0.27835052, 0.68367347],\n",
       "       [0.19587629, 0.38541667, 0.41052632, 0.30927835, 0.8877551 ],\n",
       "       [0.79381443, 0.57291667, 0.65263158, 0.95876289, 0.36734694],\n",
       "       [0.87628866, 0.67708333, 0.13684211, 0.6185567 , 0.24489796],\n",
       "       [1.        , 0.30208333, 0.4       , 0.74226804, 0.44897959],\n",
       "       [0.24742268, 0.89583333, 0.65263158, 0.6185567 , 0.89795918],\n",
       "       [0.70103093, 0.33333333, 0.58947368, 0.28865979, 0.15306122],\n",
       "       [0.48453608, 0.97916667, 0.4       , 0.11340206, 0.86734694]])"
      ]
     },
     "execution_count": 38,
     "metadata": {},
     "output_type": "execute_result"
    }
   ],
   "source": [
    "scaled_model.transform(my_array)"
   ]
  },
  {
   "cell_type": "code",
   "execution_count": 34,
   "metadata": {},
   "outputs": [
    {
     "data": {
      "text/plain": [
       "array([[ 0.95876289,  0.10416667,  0.82105263,  0.72164948,  0.63265306],\n",
       "       [ 0.87628866,  0.77083333,  0.06315789,  0.79381443,  0.39795918],\n",
       "       [ 0.02061856,  0.64583333,  0.38947368,  0.6185567 ,  0.92857143],\n",
       "       [ 0.63917526,  0.04166667,  0.09473684,  0.95876289,  0.39795918],\n",
       "       [ 0.48453608,  0.85416667,  0.05263158,  0.29896907,  0.59183673],\n",
       "       [ 0.32989691,  0.44791667,  0.72631579,  0.19587629,  0.09183673],\n",
       "       [ 0.7628866 ,  0.97916667,  0.88421053,  0.        ,  0.73469388],\n",
       "       [ 0.06185567,  0.63541667,  0.34736842,  0.8556701 ,  1.        ],\n",
       "       [ 0.26804124,  0.64583333,  0.04210526,  0.10309278,  0.52040816],\n",
       "       [ 0.55670103,  0.38541667,  0.73684211,  0.53608247,  0.17346939],\n",
       "       [ 0.71134021,  0.14583333,  0.43157895,  0.        ,  0.1122449 ],\n",
       "       [ 0.15463918,  0.77083333,  0.8       ,  1.        ,  0.93877551],\n",
       "       [ 0.22680412,  0.36458333,  0.63157895,  0.19587629,  0.34693878],\n",
       "       [ 0.28865979,  0.09375   ,  0.6       ,  0.20618557,  0.26530612],\n",
       "       [ 0.06185567,  0.88541667,  0.24210526,  0.89690722,  0.45918367],\n",
       "       [ 0.46391753,  0.55208333,  0.87368421,  0.09278351,  0.44897959],\n",
       "       [ 0.        ,  0.17708333,  0.57894737,  0.94845361,  0.10204082],\n",
       "       [ 0.08247423,  0.96875   ,  0.33684211,  0.28865979,  0.02040816],\n",
       "       [ 0.83505155,  0.86458333,  0.46315789,  0.1443299 ,  0.69387755],\n",
       "       [ 0.59793814,  0.70833333,  0.50526316,  0.06185567,  0.8877551 ],\n",
       "       [ 0.71134021,  0.69791667,  0.21052632,  0.36082474,  0.79591837],\n",
       "       [ 0.98969072,  0.6875    ,  0.83157895,  0.58762887,  0.7755102 ],\n",
       "       [ 0.45360825,  0.02083333,  0.45263158,  0.29896907,  0.86734694],\n",
       "       [ 0.19587629,  0.20833333,  0.82105263,  0.2371134 ,  0.94897959],\n",
       "       [ 0.71134021,  0.19791667,  0.25263158,  0.77319588,  0.04081633],\n",
       "       [ 0.48453608,  0.88541667,  0.90526316,  0.64948454,  0.82653061],\n",
       "       [ 0.77319588,  0.02083333,  0.55789474,  0.1443299 ,  0.48979592],\n",
       "       [ 0.87628866,  0.53125   ,  0.10526316,  0.48453608,  0.48979592],\n",
       "       [ 0.22680412,  0.19791667,  0.64210526,  0.53608247,  0.60204082],\n",
       "       [ 0.46391753,  0.29166667,  0.6       ,  0.54639175,  0.10204082],\n",
       "       [ 0.39175258,  0.9375    ,  0.44210526,  1.        ,  0.23469388],\n",
       "       [ 0.35051546,  0.38541667,  0.06315789,  0.53608247,  0.67346939],\n",
       "       [ 0.42268041,  0.        ,  0.8       ,  0.70103093,  0.68367347],\n",
       "       [ 0.60824742,  0.17708333,  0.50526316,  0.1443299 ,  0.2755102 ],\n",
       "       [ 0.15463918,  0.89583333,  0.45263158,  0.53608247,  0.15306122],\n",
       "       [ 0.70103093,  0.72916667,  0.85263158,  0.10309278,  0.62244898],\n",
       "       [ 0.96907216,  0.58333333,  0.21052632,  0.88659794,  0.85714286],\n",
       "       [ 0.24742268,  0.78125   ,  0.66315789,  0.55670103,  0.16326531],\n",
       "       [ 0.64948454,  0.58333333,  0.90526316,  0.02061856,  0.80612245],\n",
       "       [ 0.49484536,  0.67708333,  0.89473684,  0.81443299,  0.93877551],\n",
       "       [ 0.04123711,  0.94791667,  0.41052632,  0.22680412,  0.19387755],\n",
       "       [ 0.2371134 ,  1.        ,  0.53684211,  0.73195876,  0.7244898 ],\n",
       "       [ 0.80412371,  0.95833333,  0.64210526,  0.64948454,  0.80612245],\n",
       "       [ 0.37113402,  0.45833333,  0.33684211,  0.25773196,  0.95918367],\n",
       "       [ 0.75257732,  0.73958333,  0.08421053,  0.78350515,  0.79591837],\n",
       "       [ 0.49484536,  0.21875   ,  0.58947368,  0.68041237,  0.        ],\n",
       "       [ 0.32989691,  0.375     ,  0.56842105,  0.36082474,  0.41836735],\n",
       "       [ 0.43298969,  0.5       ,  0.29473684,  0.81443299,  0.85714286],\n",
       "       [ 0.01030928,  0.5625    ,  0.73684211,  0.95876289,  0.94897959],\n",
       "       [ 1.        ,  0.40625   ,  0.53684211,  0.90721649,  0.94897959],\n",
       "       [ 0.86597938,  0.16666667,  0.68421053,  0.17525773,  0.17346939],\n",
       "       [ 0.59793814,  0.85416667,  0.83157895,  0.07216495,  0.67346939],\n",
       "       [ 0.32989691,  0.78125   ,  0.95789474,  0.20618557,  0.69387755],\n",
       "       [ 0.73195876,  0.60416667,  0.32631579,  0.71134021,  0.24489796],\n",
       "       [ 0.78350515,  0.94791667,  0.74736842,  0.77319588,  0.32653061],\n",
       "       [ 0.07216495,  0.4375    ,  0.17894737,  0.84536082,  0.29591837],\n",
       "       [ 0.01030928,  0.46875   ,  0.27368421,  0.48453608,  0.26530612],\n",
       "       [ 0.81443299,  0.72916667,  0.23157895,  0.96907216,  0.57142857],\n",
       "       [ 0.19587629,  0.29166667,  0.03157895,  0.55670103,  0.46938776],\n",
       "       [ 0.46391753,  0.61458333,  0.03157895,  0.77319588,  0.97959184],\n",
       "       [ 0.5257732 ,  0.44791667,  1.        ,  0.40206186,  0.31632653],\n",
       "       [ 0.87628866,  0.80208333,  0.18947368,  0.92783505,  0.13265306],\n",
       "       [ 0.18556701,  0.        ,  0.70526316,  0.25773196,  0.44897959],\n",
       "       [ 0.96907216,  0.32291667,  0.29473684,  0.42268041,  0.79591837],\n",
       "       [ 0.87628866,  0.21875   ,  0.95789474,  0.4742268 ,  0.71428571],\n",
       "       [ 0.22680412,  0.41666667,  0.34736842,  0.31958763,  0.15306122],\n",
       "       [ 0.87628866,  0.21875   ,  0.97894737,  0.03092784,  0.1122449 ],\n",
       "       [ 0.71134021,  0.08333333,  0.88421053,  0.97938144,  0.3877551 ],\n",
       "       [ 0.63917526,  0.63541667,  0.89473684,  0.78350515,  0.93877551],\n",
       "       [ 0.83505155,  0.97916667,  0.68421053,  0.71134021,  0.59183673],\n",
       "       [ 0.51546392,  0.0625    ,  0.38947368,  0.75257732,  0.86734694],\n",
       "       [ 0.12371134,  0.5       ,  0.98947368,  0.25773196,  0.57142857],\n",
       "       [ 0.39175258,  0.16666667,  0.30526316,  0.8556701 ,  0.97959184],\n",
       "       [ 0.25773196,  0.47916667,  0.10526316,  0.72164948,  0.14285714],\n",
       "       [ 0.92783505,  0.17708333,  0.95789474,  0.49484536,  0.65306122],\n",
       "       [ 0.82474227,  0.34375   ,  0.02105263,  0.4742268 ,  0.83673469],\n",
       "       [ 0.25773196,  0.26041667,  0.17894737,  0.89690722,  0.84693878],\n",
       "       [ 0.15463918,  0.60416667,  0.64210526,  0.45360825,  0.03061224],\n",
       "       [ 0.50515464,  0.5       ,  0.74736842,  0.84536082,  0.36734694],\n",
       "       [ 0.5257732 ,  0.95833333,  0.73684211,  0.05154639,  0.36734694],\n",
       "       [ 0.55670103,  0.35416667,  0.12631579,  0.41237113,  0.41836735],\n",
       "       [ 0.71134021,  0.375     ,  0.45263158,  0.73195876,  0.91836735],\n",
       "       [ 0.97938144,  0.36458333,  0.42105263,  0.27835052,  0.66326531],\n",
       "       [ 0.56701031,  0.02083333,  0.54736842,  0.72164948,  0.40816327],\n",
       "       [ 0.67010309,  0.73958333,  0.89473684,  0.69072165,  0.75510204],\n",
       "       [ 0.69072165,  0.94791667,  0.17894737,  0.15463918,  0.57142857],\n",
       "       [ 0.07216495,  0.70833333,  0.98947368,  0.93814433,  0.51020408],\n",
       "       [ 0.53608247,  0.45833333,  0.36842105,  0.15463918,  0.41836735],\n",
       "       [ 0.60824742,  0.07291667,  0.        ,  0.90721649,  0.7244898 ],\n",
       "       [ 0.40206186,  0.23958333,  0.94736842,  0.28865979,  0.95918367],\n",
       "       [ 0.42268041,  0.48958333,  0.69473684,  0.43298969,  0.66326531],\n",
       "       [ 0.82474227,  0.67708333,  0.89473684,  0.80412371,  0.13265306],\n",
       "       [ 0.5257732 ,  0.46875   ,  0.11578947,  0.27835052,  0.68367347],\n",
       "       [ 0.19587629,  0.38541667,  0.41052632,  0.30927835,  0.8877551 ],\n",
       "       [ 0.79381443,  0.57291667,  0.65263158,  0.95876289,  0.36734694],\n",
       "       [ 0.87628866,  0.67708333,  0.13684211,  0.6185567 ,  0.24489796],\n",
       "       [ 1.        ,  0.30208333,  0.4       ,  0.74226804,  0.44897959],\n",
       "       [ 0.24742268,  0.89583333,  0.65263158,  0.6185567 ,  0.89795918],\n",
       "       [ 0.70103093,  0.33333333,  0.58947368,  0.28865979,  0.15306122],\n",
       "       [ 0.48453608,  0.97916667,  0.4       ,  0.11340206,  0.86734694]])"
      ]
     },
     "execution_count": 34,
     "metadata": {},
     "output_type": "execute_result"
    }
   ],
   "source": []
  },
  {
   "cell_type": "markdown",
   "metadata": {},
   "source": [
    "** Using your previously created DataFrame, use [df.columns = [...]](https://stackoverflow.com/questions/11346283/renaming-columns-in-pandas) to rename the pandas columns to be ['f1','f2','f3','f4','label']. Then perform a train/test split with scikitlearn.**"
   ]
  },
  {
   "cell_type": "code",
   "execution_count": 45,
   "metadata": {},
   "outputs": [],
   "source": [
    "df.columns =  ['f1','f2','f3','f4','label']"
   ]
  },
  {
   "cell_type": "code",
   "execution_count": 47,
   "metadata": {},
   "outputs": [
    {
     "data": {
      "text/html": [
       "<div>\n",
       "<style scoped>\n",
       "    .dataframe tbody tr th:only-of-type {\n",
       "        vertical-align: middle;\n",
       "    }\n",
       "\n",
       "    .dataframe tbody tr th {\n",
       "        vertical-align: top;\n",
       "    }\n",
       "\n",
       "    .dataframe thead th {\n",
       "        text-align: right;\n",
       "    }\n",
       "</style>\n",
       "<table border=\"1\" class=\"dataframe\">\n",
       "  <thead>\n",
       "    <tr style=\"text-align: right;\">\n",
       "      <th></th>\n",
       "      <th>f1</th>\n",
       "      <th>f2</th>\n",
       "      <th>f3</th>\n",
       "      <th>f4</th>\n",
       "      <th>label</th>\n",
       "    </tr>\n",
       "  </thead>\n",
       "  <tbody>\n",
       "    <tr>\n",
       "      <th>0</th>\n",
       "      <td>96</td>\n",
       "      <td>12</td>\n",
       "      <td>82</td>\n",
       "      <td>71</td>\n",
       "      <td>64</td>\n",
       "    </tr>\n",
       "    <tr>\n",
       "      <th>1</th>\n",
       "      <td>88</td>\n",
       "      <td>76</td>\n",
       "      <td>10</td>\n",
       "      <td>78</td>\n",
       "      <td>41</td>\n",
       "    </tr>\n",
       "    <tr>\n",
       "      <th>2</th>\n",
       "      <td>5</td>\n",
       "      <td>64</td>\n",
       "      <td>41</td>\n",
       "      <td>61</td>\n",
       "      <td>93</td>\n",
       "    </tr>\n",
       "    <tr>\n",
       "      <th>3</th>\n",
       "      <td>65</td>\n",
       "      <td>6</td>\n",
       "      <td>13</td>\n",
       "      <td>94</td>\n",
       "      <td>41</td>\n",
       "    </tr>\n",
       "    <tr>\n",
       "      <th>4</th>\n",
       "      <td>50</td>\n",
       "      <td>84</td>\n",
       "      <td>9</td>\n",
       "      <td>30</td>\n",
       "      <td>60</td>\n",
       "    </tr>\n",
       "    <tr>\n",
       "      <th>...</th>\n",
       "      <td>...</td>\n",
       "      <td>...</td>\n",
       "      <td>...</td>\n",
       "      <td>...</td>\n",
       "      <td>...</td>\n",
       "    </tr>\n",
       "    <tr>\n",
       "      <th>95</th>\n",
       "      <td>88</td>\n",
       "      <td>67</td>\n",
       "      <td>17</td>\n",
       "      <td>61</td>\n",
       "      <td>26</td>\n",
       "    </tr>\n",
       "    <tr>\n",
       "      <th>96</th>\n",
       "      <td>100</td>\n",
       "      <td>31</td>\n",
       "      <td>42</td>\n",
       "      <td>73</td>\n",
       "      <td>46</td>\n",
       "    </tr>\n",
       "    <tr>\n",
       "      <th>97</th>\n",
       "      <td>27</td>\n",
       "      <td>88</td>\n",
       "      <td>66</td>\n",
       "      <td>61</td>\n",
       "      <td>90</td>\n",
       "    </tr>\n",
       "    <tr>\n",
       "      <th>98</th>\n",
       "      <td>71</td>\n",
       "      <td>34</td>\n",
       "      <td>60</td>\n",
       "      <td>29</td>\n",
       "      <td>17</td>\n",
       "    </tr>\n",
       "    <tr>\n",
       "      <th>99</th>\n",
       "      <td>50</td>\n",
       "      <td>96</td>\n",
       "      <td>42</td>\n",
       "      <td>12</td>\n",
       "      <td>87</td>\n",
       "    </tr>\n",
       "  </tbody>\n",
       "</table>\n",
       "<p>100 rows × 5 columns</p>\n",
       "</div>"
      ],
      "text/plain": [
       "     f1  f2  f3  f4  label\n",
       "0    96  12  82  71     64\n",
       "1    88  76  10  78     41\n",
       "2     5  64  41  61     93\n",
       "3    65   6  13  94     41\n",
       "4    50  84   9  30     60\n",
       "..  ...  ..  ..  ..    ...\n",
       "95   88  67  17  61     26\n",
       "96  100  31  42  73     46\n",
       "97   27  88  66  61     90\n",
       "98   71  34  60  29     17\n",
       "99   50  96  42  12     87\n",
       "\n",
       "[100 rows x 5 columns]"
      ]
     },
     "execution_count": 47,
     "metadata": {},
     "output_type": "execute_result"
    }
   ],
   "source": [
    "df"
   ]
  },
  {
   "cell_type": "code",
   "execution_count": 48,
   "metadata": {},
   "outputs": [],
   "source": [
    "X = df[['f1','f2','f3','f4']]"
   ]
  },
  {
   "cell_type": "code",
   "execution_count": 49,
   "metadata": {},
   "outputs": [],
   "source": [
    "Y = df[['label']]"
   ]
  },
  {
   "cell_type": "code",
   "execution_count": 52,
   "metadata": {},
   "outputs": [],
   "source": [
    "x_train,x_test,y_train,y_test = train_test_split(X,Y,test_size = 0.3, random_state = 101)"
   ]
  },
  {
   "cell_type": "code",
   "execution_count": 55,
   "metadata": {},
   "outputs": [
    {
     "data": {
      "text/html": [
       "<div>\n",
       "<style scoped>\n",
       "    .dataframe tbody tr th:only-of-type {\n",
       "        vertical-align: middle;\n",
       "    }\n",
       "\n",
       "    .dataframe tbody tr th {\n",
       "        vertical-align: top;\n",
       "    }\n",
       "\n",
       "    .dataframe thead th {\n",
       "        text-align: right;\n",
       "    }\n",
       "</style>\n",
       "<table border=\"1\" class=\"dataframe\">\n",
       "  <thead>\n",
       "    <tr style=\"text-align: right;\">\n",
       "      <th></th>\n",
       "      <th>f1</th>\n",
       "      <th>f2</th>\n",
       "      <th>f3</th>\n",
       "      <th>f4</th>\n",
       "    </tr>\n",
       "  </thead>\n",
       "  <tbody>\n",
       "    <tr>\n",
       "      <th>86</th>\n",
       "      <td>10</td>\n",
       "      <td>70</td>\n",
       "      <td>98</td>\n",
       "      <td>92</td>\n",
       "    </tr>\n",
       "    <tr>\n",
       "      <th>14</th>\n",
       "      <td>9</td>\n",
       "      <td>87</td>\n",
       "      <td>27</td>\n",
       "      <td>88</td>\n",
       "    </tr>\n",
       "    <tr>\n",
       "      <th>23</th>\n",
       "      <td>22</td>\n",
       "      <td>22</td>\n",
       "      <td>82</td>\n",
       "      <td>24</td>\n",
       "    </tr>\n",
       "    <tr>\n",
       "      <th>26</th>\n",
       "      <td>78</td>\n",
       "      <td>4</td>\n",
       "      <td>57</td>\n",
       "      <td>15</td>\n",
       "    </tr>\n",
       "    <tr>\n",
       "      <th>22</th>\n",
       "      <td>47</td>\n",
       "      <td>4</td>\n",
       "      <td>47</td>\n",
       "      <td>30</td>\n",
       "    </tr>\n",
       "    <tr>\n",
       "      <th>...</th>\n",
       "      <td>...</td>\n",
       "      <td>...</td>\n",
       "      <td>...</td>\n",
       "      <td>...</td>\n",
       "    </tr>\n",
       "    <tr>\n",
       "      <th>63</th>\n",
       "      <td>97</td>\n",
       "      <td>33</td>\n",
       "      <td>32</td>\n",
       "      <td>42</td>\n",
       "    </tr>\n",
       "    <tr>\n",
       "      <th>70</th>\n",
       "      <td>53</td>\n",
       "      <td>8</td>\n",
       "      <td>41</td>\n",
       "      <td>74</td>\n",
       "    </tr>\n",
       "    <tr>\n",
       "      <th>81</th>\n",
       "      <td>72</td>\n",
       "      <td>38</td>\n",
       "      <td>47</td>\n",
       "      <td>72</td>\n",
       "    </tr>\n",
       "    <tr>\n",
       "      <th>11</th>\n",
       "      <td>18</td>\n",
       "      <td>76</td>\n",
       "      <td>80</td>\n",
       "      <td>98</td>\n",
       "    </tr>\n",
       "    <tr>\n",
       "      <th>95</th>\n",
       "      <td>88</td>\n",
       "      <td>67</td>\n",
       "      <td>17</td>\n",
       "      <td>61</td>\n",
       "    </tr>\n",
       "  </tbody>\n",
       "</table>\n",
       "<p>70 rows × 4 columns</p>\n",
       "</div>"
      ],
      "text/plain": [
       "    f1  f2  f3  f4\n",
       "86  10  70  98  92\n",
       "14   9  87  27  88\n",
       "23  22  22  82  24\n",
       "26  78   4  57  15\n",
       "22  47   4  47  30\n",
       "..  ..  ..  ..  ..\n",
       "63  97  33  32  42\n",
       "70  53   8  41  74\n",
       "81  72  38  47  72\n",
       "11  18  76  80  98\n",
       "95  88  67  17  61\n",
       "\n",
       "[70 rows x 4 columns]"
      ]
     },
     "execution_count": 55,
     "metadata": {},
     "output_type": "execute_result"
    }
   ],
   "source": [
    "x_train"
   ]
  },
  {
   "cell_type": "markdown",
   "metadata": {},
   "source": [
    "# Great Job!"
   ]
  }
 ],
 "metadata": {
  "kernelspec": {
   "display_name": "Python 3",
   "language": "python",
   "name": "python3"
  },
  "language_info": {
   "codemirror_mode": {
    "name": "ipython",
    "version": 3
   },
   "file_extension": ".py",
   "mimetype": "text/x-python",
   "name": "python",
   "nbconvert_exporter": "python",
   "pygments_lexer": "ipython3",
   "version": "3.7.6"
  }
 },
 "nbformat": 4,
 "nbformat_minor": 2
}
